{
  "nbformat": 4,
  "nbformat_minor": 0,
  "metadata": {
    "colab": {
      "name": "Gesture_Detection.ipynb",
      "provenance": [],
      "collapsed_sections": [],
      "toc_visible": true
    },
    "kernelspec": {
      "name": "python3",
      "display_name": "Python 3"
    },
    "language_info": {
      "name": "python"
    }
  },
  "cells": [
    {
      "cell_type": "code",
      "metadata": {
        "id": "Q1OmAnOfEQOn"
      },
      "source": [
        "from IPython.display import clear_output"
      ],
      "execution_count": 1,
      "outputs": []
    },
    {
      "cell_type": "markdown",
      "metadata": {
        "id": "XYZ7urzt_9X6"
      },
      "source": [
        "#Authentication"
      ]
    },
    {
      "cell_type": "code",
      "metadata": {
        "id": "76GedChG_qpc"
      },
      "source": [
        "from pydrive.auth import GoogleAuth\n",
        "from pydrive.drive import GoogleDrive\n",
        "from google.colab import auth\n",
        "from oauth2client.client import GoogleCredentials\n",
        "\n",
        "auth.authenticate_user()\n",
        "gauth = GoogleAuth()\n",
        "gauth.credentials = GoogleCredentials.get_application_default()\n",
        "drive = GoogleDrive(gauth)\n",
        "\n",
        "clear_output()\n",
        "!echo Authenticated"
      ],
      "execution_count": null,
      "outputs": []
    },
    {
      "cell_type": "markdown",
      "metadata": {
        "id": "OYq4OPRUDsnH"
      },
      "source": [
        "#Setup"
      ]
    },
    {
      "cell_type": "code",
      "metadata": {
        "id": "KBVnGQWhKvym"
      },
      "source": [
        "from google.colab import files\n",
        "import os"
      ],
      "execution_count": 2,
      "outputs": []
    },
    {
      "cell_type": "code",
      "metadata": {
        "id": "vrZmjdClDu8m"
      },
      "source": [
        "#Download Dataset\n",
        "links = {\n",
        "    \"data.yaml\":           \"\",  # Configuration File\n",
        "    \"\":           \"\",\n",
        "} # names of dowloaded files, and theirs id in google drive\n",
        "\n",
        "for file, key in links.items():\n",
        "  downloaded = drive.CreateFile({'id': key})\n",
        "  downloaded.GetContentFile(file)\n",
        "  print(\"Downloaded: {}\".format(file))\n",
        "\n",
        "clear_output()\n",
        "!echo Downloaded Necessery Data Files"
      ],
      "execution_count": null,
      "outputs": []
    },
    {
      "cell_type": "code",
      "metadata": {
        "id": "s5YqQWM7GkdW"
      },
      "source": [
        "#!unzip necessary files\n",
        "\n",
        "clear_output()\n",
        "!echo Data Unzipped"
      ],
      "execution_count": null,
      "outputs": []
    },
    {
      "cell_type": "code",
      "metadata": {
        "id": "XRnV7DmDErt9"
      },
      "source": [
        "!git clone https://github.com/ultralytics/yolov5\n",
        "\n",
        "!mv data.yaml yolov5/\n",
        "\n",
        "clear_output()\n",
        "!echo YOLO Installed"
      ],
      "execution_count": null,
      "outputs": []
    },
    {
      "cell_type": "code",
      "metadata": {
        "id": "WFlKJBN5EsI1"
      },
      "source": [
        "!pip install -r yolov5/requirements.txt\n",
        "clear_output()\n",
        "!echo Requirements Installed"
      ],
      "execution_count": null,
      "outputs": []
    },
    {
      "cell_type": "code",
      "metadata": {
        "id": "Xb-hRZxKHKKd"
      },
      "source": [
        "# !rsync -r /content/downloaded_dir/* /content/dataset/ && echo download_dir synchronized with dataset\n",
        "# !rm -rf /content/downloaded_dir/\n",
        "\n",
        "clear_output()\n",
        "!echo Synchronized Data and Removed "
      ],
      "execution_count": null,
      "outputs": []
    },
    {
      "cell_type": "markdown",
      "metadata": {
        "id": "smsjlFhJD1qd"
      },
      "source": [
        "##Tracking (Additional)"
      ]
    },
    {
      "cell_type": "code",
      "metadata": {
        "id": "pVNjTK71D7ol"
      },
      "source": [
        "# !pip install wandb -qqq\n",
        "# import wandb\n",
        "# !wandb login"
      ],
      "execution_count": null,
      "outputs": []
    },
    {
      "cell_type": "markdown",
      "metadata": {
        "id": "61xqlcU0J42-"
      },
      "source": [
        "#Training"
      ]
    },
    {
      "cell_type": "code",
      "metadata": {
        "id": "CJ4ITpblJ7Ze"
      },
      "source": [
        "cd yolov5"
      ],
      "execution_count": null,
      "outputs": []
    },
    {
      "cell_type": "code",
      "metadata": {
        "id": "-BrB2S0lKM7L"
      },
      "source": [
        "# !python train.py --batch 8 --epochs 50 --data data.yaml --weights /content/weights/best.pt --device 0 --multi-scale # For Further Training\n",
        "!python train.py --batch 16 --epochs 50 --data data.yaml --weights yolov5s.yaml --device 0  # Initial Training"
      ],
      "execution_count": null,
      "outputs": []
    },
    {
      "cell_type": "code",
      "metadata": {
        "id": "FNODKKd4MegP"
      },
      "source": [
        "result_path = \"/content/yolov5/runs/train\"\n",
        "result_folder = None\n",
        "\n",
        "for folder in sorted(os.listdir(result_path)):\n",
        "  if \"exp\" in folder:\n",
        "    result_folder = os.path.join(result_path, result_folder) # Last exp folder\n",
        "\n",
        "if result_folder:\n",
        "  weight_file = os.path.join(result_folder, \"weights\", \"best.pt\")\n",
        "  files.download(weight_file)"
      ],
      "execution_count": null,
      "outputs": []
    }
  ]
}